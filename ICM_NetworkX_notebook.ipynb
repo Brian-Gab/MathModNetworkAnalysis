{
 "cells": [
  {
   "cell_type": "code",
   "execution_count": null,
   "id": "d6d3b09c",
   "metadata": {},
   "outputs": [],
   "source": [
    "import networkx as nx\n",
    "import random\n",
    "import matplotlib.pyplot as plt"
   ]
  },
  {
   "cell_type": "code",
   "execution_count": null,
   "id": "40ea9f9f",
   "metadata": {},
   "outputs": [],
   "source": [
    "fixedProbability = 0.005\n",
    "Anji_filepath = \"Networks/Anji_real.txt\"\n",
    "Maxie_filepath = \"Networks/Maxie_real.txt\""
   ]
  },
  {
   "cell_type": "code",
   "execution_count": null,
   "id": "37d1fba0",
   "metadata": {},
   "outputs": [],
   "source": [
    "Maxie_filepath = \"Networks/Maxie_real.txt\"\n",
    "def importGraph(filepath):\n",
    "    print(f\"Loading graph from {filepath}...\")\n",
    "    G = nx.DiGraph()\n",
    "    with open(filepath, \"r\", encoding=\"utf-8\") as file:\n",
    "        for line in file:\n",
    "            parts = line.strip().split()\n",
    "            if len(parts) == 2:\n",
    "                followed, follower = parts[1], parts[0]\n",
    "                G.add_edge(follower, followed)  # B → A (follower → followed)\n",
    "    print(f\"Graph loaded with {G.number_of_nodes()} nodes and {G.number_of_edges()} edges.\")\n",
    "\n",
    "    return G\n",
    "\n",
    "G = importGraph(Maxie_filepath)"
   ]
  },
  {
   "cell_type": "code",
   "execution_count": null,
   "id": "eaba18d7",
   "metadata": {},
   "outputs": [],
   "source": [
    "# Independent Cascade Model using NetworkX\n",
    "def ICM(G, seed_nodes, node_probabilities, max_days=14):\n",
    "    activated_nodes = set(seed_nodes)\n",
    "    new_active = set(seed_nodes)\n",
    "    daily_viewers = [len(new_active)]\n",
    "    daily_retweeters = [len(new_active)]\n",
    "\n",
    "    for day in range(1, max_days):\n",
    "        next_active = set()\n",
    "        viewers_today = set(new_active)\n",
    "\n",
    "        for node in new_active:\n",
    "            for neighbor in G.successors(node):  # Out-edges in directed graph\n",
    "                if neighbor not in activated_nodes:\n",
    "                    viewers_today.add(neighbor)\n",
    "                    if random.random() < node_probabilities.get(neighbor, 0):\n",
    "                        next_active.add(neighbor)\n",
    "\n",
    "        activated_nodes.update(next_active)\n",
    "        new_active = next_active\n",
    "\n",
    "        daily_viewers.append(len(viewers_today))\n",
    "        daily_retweeters.append(len(next_active))\n",
    "\n",
    "    return daily_viewers, daily_retweeters, activated_nodes"
   ]
  },
  {
   "cell_type": "code",
   "execution_count": null,
   "id": "93ffede5",
   "metadata": {},
   "outputs": [],
   "source": [
    "def getAverageRetweets(G, seed_nodes, fixed_probability=fixedProbability, max_days=14, iterations=1000):\n",
    "    retweets = []\n",
    "    viewers = []\n",
    "\n",
    "    node_probabilities = {node: fixed_probability for node in G.nodes()}\n",
    "\n",
    "    for j in range(1, iterations+1):\n",
    "        daily_viewers, daily_retweeters, activated_nodes = ICM(G, seed_nodes, node_probabilities, max_days=max_days)\n",
    "        retweets.append(sum(daily_retweeters))\n",
    "        viewers.append(sum(daily_viewers))\n",
    "    \n",
    "    average_retweets = sum(retweets) / len(retweets)\n",
    "    average_viewers = sum(viewers) / len(viewers)\n",
    "\n",
    "    print(\"===============================================================\")\n",
    "    print(\"On Probability:\", fixed_probability)\n",
    "    print(\"Average Retweets:\", average_retweets)\n",
    "    print(\"Average Viewers:\", average_viewers)\n",
    "    print(\"===============================================================\")\n",
    "    return average_retweets, average_viewers, activated_nodes"
   ]
  },
  {
   "cell_type": "code",
   "execution_count": null,
   "id": "94a09256",
   "metadata": {},
   "outputs": [],
   "source": [
    "def getDailyRetweets(G, seed_nodes, fixed_probability=fixedProbability, max_days=14, iterations=1000):\n",
    "\n",
    "    daily_sums = [0] * max_days\n",
    "    node_probabilities = {node: fixed_probability for node in G.nodes()}\n",
    "\n",
    "    for j in range(iterations):\n",
    "        _, daily_retweeters, _ = ICM(G, seed_nodes, node_probabilities, max_days=max_days)\n",
    "        for day in range(max_days):\n",
    "            daily_sums[day] += daily_retweeters[day]\n",
    "\n",
    "    average_retweets = [round(total / iterations, 2) for total in daily_sums]\n",
    "\n",
    "    print(\"===============================================================\")\n",
    "    print(\"On Probability:\", fixed_probability)\n",
    "    print(f\"Average Retweets: {average_retweets}\")\n",
    "    print(\"===============================================================\")\n",
    "\n",
    "    # return average_retweets"
   ]
  },
  {
   "cell_type": "code",
   "execution_count": null,
   "id": "70747493",
   "metadata": {},
   "outputs": [],
   "source": [
    "seed_nodes = [\"maxieandreison\"]\n",
    "fixedProbability = 0.005\n",
    "\n",
    "averageRetweets = getDailyRetweets(G, seed_nodes, fixedProbability, 14, 1000)"
   ]
  },
  {
   "cell_type": "code",
   "execution_count": null,
   "id": "3a9ab117",
   "metadata": {},
   "outputs": [],
   "source": [
    "def plotGraph(averageRetweets):\n",
    "    plt.figure(figsize=(10, 6))\n",
    "    #plt.plot(range(14), daily_viewers, marker='o', linestyle='-', color='blue', label=\"Viewers (Seen Tweet)\")\n",
    "    plt.plot(range(14), averageRetweets, marker='s', linestyle='--', color='red', label=\"Retweeters (New RTs)\")\n",
    "\n",
    "    plt.xlabel(\"Days\")\n",
    "    plt.xlim(0, 14)\n",
    "    plt.ylabel(\"Number of People\")\n",
    "    plt.title(\"Spread of Tweet Viewers and Retweeters Over 14 Days\")\n",
    "    plt.legend()\n",
    "    plt.grid(True)\n",
    "    plt.show()"
   ]
  },
  {
   "cell_type": "code",
   "execution_count": null,
   "id": "56b6d37d",
   "metadata": {},
   "outputs": [],
   "source": [
    "plotGraph(averageRetweets)"
   ]
  }
 ],
 "metadata": {
  "kernelspec": {
   "display_name": "venv",
   "language": "python",
   "name": "python3"
  },
  "language_info": {
   "name": "python",
   "version": "3.7.8"
  }
 },
 "nbformat": 4,
 "nbformat_minor": 5
}
